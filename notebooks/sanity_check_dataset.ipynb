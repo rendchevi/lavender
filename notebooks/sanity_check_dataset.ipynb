{
 "cells": [
  {
   "cell_type": "code",
   "execution_count": 1,
   "metadata": {},
   "outputs": [
    {
     "name": "stdout",
     "output_type": "stream",
     "text": [
      "/home/branch/rnd/research-pt3/lavender/training\n"
     ]
    },
    {
     "name": "stderr",
     "output_type": "stream",
     "text": [
      "/home/branch/miniconda3/envs/nlp/lib/python3.9/site-packages/IPython/core/magics/osm.py:417: UserWarning: using dhist requires you to install the `pickleshare` library.\n",
      "  self.shell.db['dhist'] = compress_dhist(dhist)[-100:]\n"
     ]
    }
   ],
   "source": [
    "%load_ext autoreload\n",
    "%autoreload 2\n",
    "%cd ../training"
   ]
  },
  {
   "cell_type": "code",
   "execution_count": 15,
   "metadata": {},
   "outputs": [],
   "source": [
    "import sys\n",
    "\n",
    "import torch\n",
    "from transformers import AutoTokenizer\n",
    "\n",
    "from utils import ObjectConceptElaborationDataset, ContextAwareDataCollator"
   ]
  },
  {
   "cell_type": "code",
   "execution_count": 3,
   "metadata": {},
   "outputs": [],
   "source": [
    "concept_list = ['contentment', 'fear', 'excitement', 'amusement', 'disgust', 'something else', 'sadness', 'anger', 'awe']\n",
    "\n",
    "train_dataset_path = \"../../lavender-extraction/outputs/lave-v0.3/train_scenes.tsv\"\n",
    "eval_dataset_path = \"../../lavender-extraction/outputs/lave-v0.3/eval_scenes.tsv\"\n",
    "test_dataset_path = \"../../lavender-extraction/outputs/lave-v0.3/test_scenes.tsv\""
   ]
  },
  {
   "cell_type": "code",
   "execution_count": 11,
   "metadata": {},
   "outputs": [],
   "source": [
    "# Initate tokenizer\n",
    "tokenizer = AutoTokenizer.from_pretrained(\"gpt2-medium\")\n",
    "tokenizer.pad_token = tokenizer.eos_token\n",
    "\n",
    "# Initiate dataset\n",
    "train_dataset = ObjectConceptElaborationDataset(\n",
    "    train_dataset_path,\n",
    "    obj_col=\"object_list\", elab_col=\"verbalization\", concept_list=concept_list,\n",
    ")\n",
    "eval_dataset = ObjectConceptElaborationDataset(\n",
    "    eval_dataset_path,\n",
    "    obj_col=\"object_list\", elab_col=\"verbalization\", concept_list=concept_list,\n",
    ")\n",
    "test_dataset = ObjectConceptElaborationDataset(\n",
    "    test_dataset_path,\n",
    "    obj_col=\"object_list\", elab_col=\"verbalization\", concept_list=concept_list,\n",
    ")"
   ]
  },
  {
   "cell_type": "code",
   "execution_count": 12,
   "metadata": {},
   "outputs": [
    {
     "data": {
      "text/html": [
       "<div>\n",
       "<style scoped>\n",
       "    .dataframe tbody tr th:only-of-type {\n",
       "        vertical-align: middle;\n",
       "    }\n",
       "\n",
       "    .dataframe tbody tr th {\n",
       "        vertical-align: top;\n",
       "    }\n",
       "\n",
       "    .dataframe thead th {\n",
       "        text-align: right;\n",
       "    }\n",
       "</style>\n",
       "<table border=\"1\" class=\"dataframe\">\n",
       "  <thead>\n",
       "    <tr style=\"text-align: right;\">\n",
       "      <th></th>\n",
       "      <th>objects</th>\n",
       "      <th>relationships</th>\n",
       "      <th>verbalization</th>\n",
       "      <th>painter</th>\n",
       "      <th>painting</th>\n",
       "      <th>contentment</th>\n",
       "      <th>fear</th>\n",
       "      <th>excitement</th>\n",
       "      <th>amusement</th>\n",
       "      <th>disgust</th>\n",
       "      <th>something else</th>\n",
       "      <th>sadness</th>\n",
       "      <th>anger</th>\n",
       "      <th>awe</th>\n",
       "      <th>most_voted_emotion</th>\n",
       "      <th>object_list</th>\n",
       "    </tr>\n",
       "  </thead>\n",
       "  <tbody>\n",
       "    <tr>\n",
       "      <th>0</th>\n",
       "      <td>[{'id': 0, 'name': 'mountain', 'age': None, 'a...</td>\n",
       "      <td>[{'id': 0, 'source_obj': 0, 'target_obj': 1, '...</td>\n",
       "      <td>In the painting, there is a purple mountain oc...</td>\n",
       "      <td>ferdinand-hodler</td>\n",
       "      <td>ferdinand-hodler_the-dents-du-midi-from-chesie...</td>\n",
       "      <td>2</td>\n",
       "      <td>2</td>\n",
       "      <td>0</td>\n",
       "      <td>0</td>\n",
       "      <td>0</td>\n",
       "      <td>0</td>\n",
       "      <td>0</td>\n",
       "      <td>0</td>\n",
       "      <td>1</td>\n",
       "      <td>contentment</td>\n",
       "      <td>mountain, snow cap, clouds, sky, grass</td>\n",
       "    </tr>\n",
       "    <tr>\n",
       "      <th>1</th>\n",
       "      <td>[{'id': 0, 'name': 'humanoid_0', 'age': None, ...</td>\n",
       "      <td>[{'id': 0, 'source_obj': 0, 'target_obj': 1, '...</td>\n",
       "      <td>In the midground stands a humanoid figure drap...</td>\n",
       "      <td>odilon-redon</td>\n",
       "      <td>odilon-redon_the-saint</td>\n",
       "      <td>0</td>\n",
       "      <td>1</td>\n",
       "      <td>0</td>\n",
       "      <td>0</td>\n",
       "      <td>1</td>\n",
       "      <td>2</td>\n",
       "      <td>0</td>\n",
       "      <td>0</td>\n",
       "      <td>1</td>\n",
       "      <td>something else</td>\n",
       "      <td>humanoid_0, floral_elements, abstract_backgrou...</td>\n",
       "    </tr>\n",
       "    <tr>\n",
       "      <th>2</th>\n",
       "      <td>[{'id': 0, 'name': 'ground', 'age': None, 'act...</td>\n",
       "      <td>[{'id': 0, 'source_obj': 0, 'target_obj': 1, '...</td>\n",
       "      <td>In the foreground, there is a blue-green groun...</td>\n",
       "      <td>nicholas-roerich</td>\n",
       "      <td>nicholas-roerich_chud-has-gone-under-the-groun...</td>\n",
       "      <td>3</td>\n",
       "      <td>0</td>\n",
       "      <td>1</td>\n",
       "      <td>0</td>\n",
       "      <td>0</td>\n",
       "      <td>0</td>\n",
       "      <td>0</td>\n",
       "      <td>0</td>\n",
       "      <td>1</td>\n",
       "      <td>contentment</td>\n",
       "      <td>ground, rock formations, underground figure, c...</td>\n",
       "    </tr>\n",
       "    <tr>\n",
       "      <th>3</th>\n",
       "      <td>[{'id': 0, 'name': 'mountain', 'age': None, 'a...</td>\n",
       "      <td>[{'id': 0, 'source_obj': 0, 'target_obj': 1, '...</td>\n",
       "      <td>In the background, there is a white mountain. ...</td>\n",
       "      <td>nicholas-roerich</td>\n",
       "      <td>nicholas-roerich_tibetian-way-1931</td>\n",
       "      <td>3</td>\n",
       "      <td>0</td>\n",
       "      <td>0</td>\n",
       "      <td>0</td>\n",
       "      <td>0</td>\n",
       "      <td>0</td>\n",
       "      <td>0</td>\n",
       "      <td>0</td>\n",
       "      <td>2</td>\n",
       "      <td>contentment</td>\n",
       "      <td>mountain, mountain range, water, boat</td>\n",
       "    </tr>\n",
       "    <tr>\n",
       "      <th>4</th>\n",
       "      <td>[{'id': 0, 'name': 'lady', 'age': None, 'activ...</td>\n",
       "      <td>[{'id': 0, 'source_obj': 0, 'target_obj': 1, '...</td>\n",
       "      <td>A lady stands in the foreground, holding a sti...</td>\n",
       "      <td>konstantin-somov</td>\n",
       "      <td>konstantin-somov_lady-with-a-spring-landscape</td>\n",
       "      <td>1</td>\n",
       "      <td>1</td>\n",
       "      <td>0</td>\n",
       "      <td>0</td>\n",
       "      <td>0</td>\n",
       "      <td>0</td>\n",
       "      <td>3</td>\n",
       "      <td>0</td>\n",
       "      <td>0</td>\n",
       "      <td>sadness</td>\n",
       "      <td>lady, trees, sky, building</td>\n",
       "    </tr>\n",
       "  </tbody>\n",
       "</table>\n",
       "</div>"
      ],
      "text/plain": [
       "                                             objects  ...                                        object_list\n",
       "0  [{'id': 0, 'name': 'mountain', 'age': None, 'a...  ...             mountain, snow cap, clouds, sky, grass\n",
       "1  [{'id': 0, 'name': 'humanoid_0', 'age': None, ...  ...  humanoid_0, floral_elements, abstract_backgrou...\n",
       "2  [{'id': 0, 'name': 'ground', 'age': None, 'act...  ...  ground, rock formations, underground figure, c...\n",
       "3  [{'id': 0, 'name': 'mountain', 'age': None, 'a...  ...              mountain, mountain range, water, boat\n",
       "4  [{'id': 0, 'name': 'lady', 'age': None, 'activ...  ...                         lady, trees, sky, building\n",
       "\n",
       "[5 rows x 16 columns]"
      ]
     },
     "execution_count": 12,
     "metadata": {},
     "output_type": "execute_result"
    }
   ],
   "source": [
    "# Take a peek of dataframe\n",
    "train_dataset.data.head()"
   ]
  },
  {
   "cell_type": "code",
   "execution_count": 14,
   "metadata": {},
   "outputs": [
    {
     "name": "stdout",
     "output_type": "stream",
     "text": [
      "4069/4069\n",
      "30/30\n",
      "29/29"
     ]
    }
   ],
   "source": [
    "# Check __getitem__ func\n",
    "for i, batch in enumerate(train_dataset):\n",
    "    context, prompt = batch\n",
    "    sys.stdout.write(f\"\\r{i+1}/{len(train_dataset)}\")\n",
    "\n",
    "print()\n",
    "\n",
    "for i, batch in enumerate(eval_dataset):\n",
    "    context, prompt = batch\n",
    "    sys.stdout.write(f\"\\r{i+1}/{len(eval_dataset)}\")\n",
    "\n",
    "print()\n",
    "\n",
    "for i, batch in enumerate(test_dataset):\n",
    "    context, prompt = batch\n",
    "    sys.stdout.write(f\"\\r{i+1}/{len(test_dataset)}\")"
   ]
  },
  {
   "cell_type": "code",
   "execution_count": 18,
   "metadata": {},
   "outputs": [],
   "source": [
    "# Check dataloader\n",
    "train_loader = torch.utils.data.DataLoader(\n",
    "    train_dataset, batch_size=8,\n",
    "    shuffle=True, num_workers=1,\n",
    "    collate_fn=ContextAwareDataCollator(tokenizer)\n",
    ")\n",
    "\n",
    "eval_loader = torch.utils.data.DataLoader(\n",
    "    eval_dataset, batch_size=8,\n",
    "    shuffle=False, num_workers=1,\n",
    "    collate_fn=ContextAwareDataCollator(tokenizer)\n",
    ")\n",
    "\n",
    "test_loader = torch.utils.data.DataLoader(\n",
    "    test_dataset, batch_size=8,\n",
    "    shuffle=False, num_workers=1,\n",
    "    collate_fn=ContextAwareDataCollator(tokenizer)\n",
    ")"
   ]
  },
  {
   "cell_type": "code",
   "execution_count": 19,
   "metadata": {},
   "outputs": [
    {
     "name": "stdout",
     "output_type": "stream",
     "text": [
      "509/509\n",
      "4/4\n",
      "4/4\n"
     ]
    }
   ],
   "source": [
    "for i, batch in enumerate(train_loader):\n",
    "    sys.stdout.write(f\"\\r{i+1}/{len(train_loader)}\")\n",
    "print()\n",
    "\n",
    "for i, batch in enumerate(eval_loader):\n",
    "    sys.stdout.write(f\"\\r{i+1}/{len(eval_loader)}\")\n",
    "print()\n",
    "\n",
    "for i, batch in enumerate(test_loader):\n",
    "    sys.stdout.write(f\"\\r{i+1}/{len(test_loader)}\")\n",
    "print()"
   ]
  },
  {
   "cell_type": "code",
   "execution_count": null,
   "metadata": {},
   "outputs": [],
   "source": []
  },
  {
   "cell_type": "code",
   "execution_count": null,
   "metadata": {},
   "outputs": [],
   "source": []
  },
  {
   "cell_type": "code",
   "execution_count": null,
   "metadata": {},
   "outputs": [],
   "source": []
  }
 ],
 "metadata": {
  "kernelspec": {
   "display_name": "nlp",
   "language": "python",
   "name": "python3"
  },
  "language_info": {
   "codemirror_mode": {
    "name": "ipython",
    "version": 3
   },
   "file_extension": ".py",
   "mimetype": "text/x-python",
   "name": "python",
   "nbconvert_exporter": "python",
   "pygments_lexer": "ipython3",
   "version": "3.9.18"
  },
  "orig_nbformat": 4,
  "vscode": {
   "interpreter": {
    "hash": "a0cd12b50a50342ace14d034ed660b8ec1ba6849d6f6ee524b6e2fdf5abc3965"
   }
  }
 },
 "nbformat": 4,
 "nbformat_minor": 2
}
